{
 "cells": [
  {
   "cell_type": "code",
   "execution_count": 1,
   "id": "excess-minnesota",
   "metadata": {},
   "outputs": [
    {
     "data": {
      "text/plain": [
       "<torch._C.Generator at 0x10c69c030>"
      ]
     },
     "execution_count": 1,
     "metadata": {},
     "output_type": "execute_result"
    }
   ],
   "source": [
    "import torch\n",
    "import torch.nn as nn\n",
    "import torch.nn.functional as F\n",
    "import torch.optim as optim\n",
    "import numpy as np\n",
    "import urllib.request\n",
    "from nltk.tokenize import RegexpTokenizer\n",
    "from nltk.corpus import stopwords\n",
    "from nltk import word_tokenize\n",
    "import sklearn\n",
    "from sklearn.cluster import KMeans\n",
    "from sklearn.metrics.pairwise import euclidean_distances\n",
    "\n",
    "torch.manual_seed(1)\n"
   ]
  },
  {
   "cell_type": "code",
   "execution_count": 3,
   "id": "received-lecture",
   "metadata": {},
   "outputs": [],
   "source": [
    "CONTEXT_SIZE = 3\n",
    "EMBEDDING_DIM = 10\n",
    "\n",
    "def get_key(word_id):\n",
    "    for key,val in word_to_ix.items():\n",
    "        if(val == word_id):\n",
    "            print(key)\n",
    "\n",
    "\n",
    "def cluster_embeddings(filename,nclusters):\n",
    "    X = np.load(filename)\n",
    "    kmeans = KMeans(n_clusters=nclusters, random_state=0).fit(X)\n",
    "    center = kmeans.cluster_centers_\n",
    "    distances = euclidean_distances(X,center)\n",
    "\n",
    "    for i in np.arange(0,distances.shape[1]):\n",
    "        word_id = np.argmin(distances[:,i])\n",
    "        print(word_id)\n",
    "        get_key(word_id)\n",
    "\n",
    "def read_data(file_path):\n",
    "    tokenizer = RegexpTokenizer(r'\\w+')\n",
    "    data = urllib.request.urlopen(file_path)\n",
    "    data = data.read().decode('utf8')\n",
    "    tokenized_data = word_tokenize(data)\n",
    "    stop_words = set(stopwords.words('english'))\n",
    "    stop_words.update(['.',',',':',';','(',')','#','--','...','\"'])\n",
    "    cleaned_words = [ i for i in tokenized_data if i not in stop_words ]\n",
    "    return(cleaned_words)"
   ]
  },
  {
   "cell_type": "code",
   "execution_count": 116,
   "id": "spectacular-asian",
   "metadata": {},
   "outputs": [
    {
     "name": "stderr",
     "output_type": "stream",
     "text": [
      "[nltk_data] Downloading package punkt to\n",
      "[nltk_data]     /Users/chengcensha/nltk_data...\n",
      "[nltk_data]   Package punkt is already up-to-date!\n",
      "[nltk_data] Downloading package stopwords to\n",
      "[nltk_data]     /Users/chengcensha/nltk_data...\n",
      "[nltk_data]   Unzipping corpora/stopwords.zip.\n"
     ]
    },
    {
     "data": {
      "text/plain": [
       "True"
      ]
     },
     "execution_count": 116,
     "metadata": {},
     "output_type": "execute_result"
    }
   ],
   "source": [
    "import nltk\n",
    "nltk.download('punkt')\n",
    "nltk.download('stopwords')"
   ]
  },
  {
   "cell_type": "markdown",
   "id": "enhanced-guide",
   "metadata": {},
   "source": [
    "# Define the input test sentence"
   ]
  },
  {
   "cell_type": "code",
   "execution_count": 117,
   "id": "higher-lexington",
   "metadata": {},
   "outputs": [],
   "source": [
    "test_sentence = \"\"\"Empathy for the poor may not come easily to people who never experienced it. They may blame the victims and insist their predicament can be overcome through determination and hard work.\n",
    "But they may not realize that extreme poverty can be psychologically and physically incapacitating — a perpetual cycle of bad diets, health care and education exacerbated by the shaming and self-fulfilling prophecies that define it in the public imagination.\n",
    "Gordon Parks — perhaps more than any artist — saw poverty as “the most savage of all human afflictions” and realized the power of empathy to help us understand it. It was neither an abstract problem nor political symbol, but something he endured growing up destitute in rural Kansas and having spent years documenting poverty throughout the world, including the United States.\n",
    "That sensitivity informed “Freedom’s Fearful Foe: Poverty,” his celebrated photo essay published in Life magazine in June 1961. He took readers into the lives of a Brazilian boy, Flavio da Silva, and his family, who lived in the ramshackle Catacumba favela in the hills outside Rio de Janeiro. These stark photographs are the subject of a new book, “Gordon Parks: The Flavio Story” (Steidl/The Gordon Parks Foundation), which accompanies a traveling exhibition co-organized by the Ryerson Image Centre in Toronto, where it opens this week, and the J. Paul Getty Museum. Edited with texts by the exhibition’s co-curators, Paul Roth and Amanda Maddox, the book also includes a recent interview with Mr. da Silva and essays by Beatriz Jaguaribe, Maria Alice Rezende de Carvalho and Sérgio Burgi.\n",
    "\"\"\".split()\n",
    "\n",
    "test_sentence = read_data('https://www.gutenberg.org/files/57884/57884-0.txt')"
   ]
  },
  {
   "cell_type": "code",
   "execution_count": 118,
   "id": "protecting-resort",
   "metadata": {},
   "outputs": [
    {
     "name": "stdout",
     "output_type": "stream",
     "text": [
      "Length of vocabulary 11406\n"
     ]
    }
   ],
   "source": [
    "ngrams = []\n",
    "for i in range(len(test_sentence) - CONTEXT_SIZE):\n",
    "    tup = [test_sentence[j] for j in np.arange(i + 1 , i + CONTEXT_SIZE + 1) ]\n",
    "    ngrams.append((test_sentence[i],tup))\n",
    "# print the first 3, just so you can see what they look like\n",
    "#print(ngrams)\n",
    "\n",
    "\n",
    "vocab = set(test_sentence)\n",
    "print(\"Length of vocabulary\",len(vocab))\n",
    "word_to_ix = {word: i for i, word in enumerate(vocab)}"
   ]
  },
  {
   "cell_type": "code",
   "execution_count": 69,
   "id": "labeled-coordinate",
   "metadata": {},
   "outputs": [],
   "source": [
    "class SkipgramModeler(nn.Module):\n",
    "\n",
    "    def __init__(self, vocab_size, embedding_dim, context_size):\n",
    "        super(SkipgramModeler, self).__init__()\n",
    "        self.embeddings = nn.Embedding(vocab_size, embedding_dim)\n",
    "        self.linear1 = nn.Linear(embedding_dim, 128)\n",
    "        self.linear2 = nn.Linear(128, context_size * vocab_size)\n",
    "    \n",
    "    def returnout(self, inputs):\n",
    "        embeds = self.embeddings(inputs).view((1, -1))  # -1 implies size inferred for that index from the size of the data\n",
    "        out1 = F.relu(self.linear1(embeds)) # output of first layer\n",
    "        out2 = self.linear2(out1)           # output of second layer\n",
    "        print(\"output2 size is {}\".format(out2.shape))\n",
    "        return out2\n",
    "        \n",
    "\n",
    "    def forward(self, inputs):\n",
    "        embeds = self.embeddings(inputs).view((1, -1))  # -1 implies size inferred for that index from the size of the data\n",
    "        out1 = F.relu(self.linear1(embeds)) # output of first layer\n",
    "        out2 = self.linear2(out1)           # output of second layer\n",
    "        print(\"output2 size is {}\".format(out2.shape))\n",
    "        log_probs = F.log_softmax(out2, dim=1).view(CONTEXT_SIZE,-1)\n",
    "        \n",
    "        return log_probs\n",
    "\n",
    "    def predict(self,input):\n",
    "        context_idxs = torch.tensor([word_to_ix[input]], dtype=torch.long)\n",
    "        res = self.forward(context_idxs)\n",
    "        res_arg = torch.argmax(res)\n",
    "        res_val, res_ind = res.sort(descending=True)\n",
    "        indices = [res_ind[i][0] for i in np.arange(0,3)]\n",
    "        for arg in indices:\n",
    "            print( [ (key, val) for key,val in word_to_ix.items() if val == arg ])\n",
    "\n",
    "\n",
    "    def freeze_layer(self,layer):\n",
    "        for name,child in model.named_children():\n",
    "            print(name,child)\n",
    "            if(name == layer):\n",
    "                for names,params in child.named_parameters():\n",
    "                    print(names,params)\n",
    "                    print(params.size())\n",
    "                    params.requires_grad= False\n",
    "\n",
    "    def print_layer_parameters(self):\n",
    "        for name,child in model.named_children():\n",
    "                print(name,child)\n",
    "                for names,params in child.named_parameters():\n",
    "                    print(names,params)\n",
    "                    print(params.size())\n",
    "\n",
    "    def write_embedding_to_file(self,filename):\n",
    "        for i in self.embeddings.parameters():\n",
    "            weights = i.data.numpy()\n",
    "        np.save(filename,weights)"
   ]
  },
  {
   "cell_type": "code",
   "execution_count": 70,
   "id": "governing-canon",
   "metadata": {},
   "outputs": [],
   "source": [
    "test_input =  torch.tensor([word_to_ix[\"for\"]], dtype=torch.long)"
   ]
  },
  {
   "cell_type": "code",
   "execution_count": 71,
   "id": "looking-jamaica",
   "metadata": {},
   "outputs": [],
   "source": [
    "losses = []\n",
    "loss_function = nn.NLLLoss()\n",
    "model = SkipgramModeler(len(vocab), EMBEDDING_DIM, CONTEXT_SIZE)\n",
    "optimizer = optim.SGD(model.parameters(), lr=0.001)"
   ]
  },
  {
   "cell_type": "code",
   "execution_count": 78,
   "id": "likely-router",
   "metadata": {},
   "outputs": [
    {
     "name": "stdout",
     "output_type": "stream",
     "text": [
      "output2 size is torch.Size([1, 585])\n"
     ]
    }
   ],
   "source": [
    "out2 = model.returnout(test_input)"
   ]
  },
  {
   "cell_type": "code",
   "execution_count": 89,
   "id": "compatible-portrait",
   "metadata": {},
   "outputs": [
    {
     "data": {
      "text/plain": [
       "tensor([-0.1160,  0.3499,  0.1481, -0.0164, -0.0320,  0.0061, -0.0998, -0.1268,\n",
       "         0.3799,  0.0483], grad_fn=<SliceBackward>)"
      ]
     },
     "execution_count": 89,
     "metadata": {},
     "output_type": "execute_result"
    }
   ],
   "source": [
    "out2[0][:10]"
   ]
  },
  {
   "cell_type": "code",
   "execution_count": 88,
   "id": "japanese-pension",
   "metadata": {},
   "outputs": [
    {
     "data": {
      "text/plain": [
       "tensor([-6.5044, -6.0385, -6.2402, -6.4048, -6.4203, -6.3823, -6.4882, -6.5151,\n",
       "        -6.0085, -6.3401], grad_fn=<SliceBackward>)"
      ]
     },
     "execution_count": 88,
     "metadata": {},
     "output_type": "execute_result"
    }
   ],
   "source": [
    "F.log_softmax(out2, dim=1)[0][:10]"
   ]
  },
  {
   "cell_type": "code",
   "execution_count": null,
   "id": "experimental-transsexual",
   "metadata": {},
   "outputs": [],
   "source": [
    "for epoch in range(550):\n",
    "    total_loss = 0\n",
    "    #------- Embedding layers are trained as well here ----#\n",
    "    lookup_tensor = torch.tensor([word_to_ix[\"poor\"]], dtype=torch.long)\n",
    "    hello_embed = model.embeddings(lookup_tensor)\n",
    "    print(hello_embed)\n",
    "    # -----------------------------------------------------#\n",
    "\n",
    "    model.predict('psychologically')\n",
    "\n",
    "    for context, target in ngrams:\n",
    "\n",
    "        # Step 1. Prepare the inputs to be passed to the model (i.e, turn the words\n",
    "        # into integer indices and wrap them in tensors)\n",
    "        #print(context,target)\n",
    "\n",
    "\n",
    "        context_idxs = torch.tensor([word_to_ix[context]], dtype=torch.long)\n",
    "        #print(\"Context id\",context_idxs)\n",
    "\n",
    "        # Step 2. Recall that torch *accumulates* gradients. Before passing in a\n",
    "        # new instance, you need to zero out the gradients from the old\n",
    "        # instance\n",
    "        model.zero_grad()\n",
    "\n",
    "        # Step 3. Run the forward pass, getting log probabilities over next\n",
    "        # words\n",
    "        log_probs = model(context_idxs)\n",
    "        #print(log_probs)\n",
    "\n",
    "        # Step 4. Compute your loss function. (Again, Torch wants the target\n",
    "        # word wrapped in a tensor)\n",
    "        target_list = torch.tensor([word_to_ix[w] for w in target], dtype=torch.long)\n",
    "        loss = loss_function(log_probs, target_list)\n",
    "        #print(loss)\n",
    "\n",
    "        # Step 5. Do the backward pass and update the gradient\n",
    "        loss.backward()\n",
    "        optimizer.step()\n",
    "\n",
    "        # Get the Python number from a 1-element Tensor by calling tensor.item()\n",
    "        total_loss += loss.item()\n",
    "    print(total_loss)\n",
    "    losses.append(total_loss)\n"
   ]
  },
  {
   "cell_type": "code",
   "execution_count": 103,
   "id": "amended-elements",
   "metadata": {},
   "outputs": [],
   "source": [
    "context, target = ngrams[10]"
   ]
  },
  {
   "cell_type": "code",
   "execution_count": 104,
   "id": "removable-rescue",
   "metadata": {},
   "outputs": [],
   "source": [
    "context_idxs = torch.tensor([word_to_ix[context]], dtype=torch.long)"
   ]
  },
  {
   "cell_type": "code",
   "execution_count": 105,
   "id": "funded-sponsorship",
   "metadata": {},
   "outputs": [
    {
     "name": "stdout",
     "output_type": "stream",
     "text": [
      "output2 size is torch.Size([1, 585])\n"
     ]
    }
   ],
   "source": [
    "log_probs = model(context_idxs)"
   ]
  },
  {
   "cell_type": "code",
   "execution_count": 106,
   "id": "regular-doctrine",
   "metadata": {},
   "outputs": [
    {
     "data": {
      "text/plain": [
       "torch.Size([3, 195])"
      ]
     },
     "execution_count": 106,
     "metadata": {},
     "output_type": "execute_result"
    }
   ],
   "source": [
    "log_probs.shape"
   ]
  },
  {
   "cell_type": "code",
   "execution_count": 107,
   "id": "banned-microwave",
   "metadata": {},
   "outputs": [],
   "source": [
    "target_list = torch.tensor([word_to_ix[w] for w in target], dtype=torch.long)"
   ]
  },
  {
   "cell_type": "code",
   "execution_count": 112,
   "id": "thousand-candidate",
   "metadata": {},
   "outputs": [
    {
     "data": {
      "text/plain": [
       "tensor([-6.4941, -6.1326, -6.3275, -6.7364, -6.3832, -6.3158, -6.5556, -6.2365,\n",
       "        -5.9299, -6.4699, -6.4141, -6.0778, -6.4089, -6.7548, -6.2514, -6.3853,\n",
       "        -6.4012, -6.4248, -6.5197, -6.2663, -6.5076, -6.5766, -6.4410, -6.3175,\n",
       "        -6.3361, -6.5126, -6.3947, -6.5063, -6.5504, -6.6908, -6.3450, -6.4209,\n",
       "        -6.2678, -6.3490, -6.3606, -6.5083, -6.4360, -6.3397, -6.2282, -6.5709,\n",
       "        -6.4106, -6.5312, -6.5751, -6.2837, -6.2239, -6.3493, -6.3451, -6.1776,\n",
       "        -6.1251, -6.2238, -6.3026, -6.4405, -6.4075, -6.3043, -6.5644, -6.0809,\n",
       "        -6.4452, -6.3711, -6.5722, -6.5421, -6.4164, -6.4434, -6.4354, -6.5788,\n",
       "        -6.2818, -6.3198, -6.3232, -6.4921, -6.3354, -6.4229, -6.6392, -6.1617,\n",
       "        -6.2595, -6.5853, -6.1105, -6.4906, -6.5098, -6.0743, -6.4306, -6.5152,\n",
       "        -6.4589, -6.1940, -6.5112, -6.6049, -6.4180, -6.2852, -6.1390, -6.7245,\n",
       "        -6.4946, -6.2978, -6.3247, -6.1902, -6.4806, -6.2106, -5.9807, -6.1218,\n",
       "        -6.4314, -5.7830, -6.1441, -6.4928, -6.5020, -6.5380, -6.6905, -6.3236,\n",
       "        -6.5931, -6.2590, -6.5945, -6.5633, -6.4242, -6.1625, -6.3822, -6.5682,\n",
       "        -6.5356, -6.2451, -6.1996, -6.4114, -6.3255, -6.4307, -6.2175, -6.4903,\n",
       "        -6.3239, -6.2396, -6.3005, -6.5578, -6.4172, -6.2308, -6.6482, -6.6240,\n",
       "        -6.2966, -6.0967, -6.0432, -6.5525, -6.5221, -6.4698, -6.5330, -6.5992,\n",
       "        -6.4073, -6.4006, -6.5775, -6.2310, -6.4826, -6.5066, -6.2970, -6.5109,\n",
       "        -6.6065, -6.2073, -6.2673, -6.3239, -6.3229, -6.3507, -6.5156, -6.5904,\n",
       "        -6.5146, -6.5039, -6.2824, -6.3322, -6.5135, -6.4566, -6.3054, -6.2419,\n",
       "        -6.4481, -6.6922, -6.4360, -6.0730, -6.3944, -6.5136, -6.2121, -6.6215,\n",
       "        -6.2906, -6.3129, -6.4536, -6.0997, -6.2701, -6.2459, -6.2676, -6.4065,\n",
       "        -6.0882, -6.4983, -6.7113, -6.1630, -6.4826, -6.3130, -6.5783, -6.1049,\n",
       "        -6.7667, -6.4899, -6.2066, -6.0426, -6.4014, -6.4832, -6.1661, -6.1557,\n",
       "        -6.1034, -6.3994, -6.5204], grad_fn=<SelectBackward>)"
      ]
     },
     "execution_count": 112,
     "metadata": {},
     "output_type": "execute_result"
    }
   ],
   "source": [
    "log_probs[0]"
   ]
  },
  {
   "cell_type": "code",
   "execution_count": 109,
   "id": "valuable-national",
   "metadata": {},
   "outputs": [
    {
     "data": {
      "text/plain": [
       "tensor([ 19, 155,  61])"
      ]
     },
     "execution_count": 109,
     "metadata": {},
     "output_type": "execute_result"
    }
   ],
   "source": [
    "target_list"
   ]
  },
  {
   "cell_type": "code",
   "execution_count": 111,
   "id": "shared-sharing",
   "metadata": {},
   "outputs": [
    {
     "data": {
      "text/plain": [
       "tensor(6.2974, grad_fn=<NllLossBackward>)"
      ]
     },
     "execution_count": 111,
     "metadata": {},
     "output_type": "execute_result"
    }
   ],
   "source": [
    "loss_function(log_probs, target_list)"
   ]
  },
  {
   "cell_type": "code",
   "execution_count": null,
   "id": "synthetic-runner",
   "metadata": {},
   "outputs": [],
   "source": []
  }
 ],
 "metadata": {
  "kernelspec": {
   "display_name": "Python 3",
   "language": "python",
   "name": "python3"
  },
  "language_info": {
   "codemirror_mode": {
    "name": "ipython",
    "version": 3
   },
   "file_extension": ".py",
   "mimetype": "text/x-python",
   "name": "python",
   "nbconvert_exporter": "python",
   "pygments_lexer": "ipython3",
   "version": "3.8.8"
  }
 },
 "nbformat": 4,
 "nbformat_minor": 5
}
