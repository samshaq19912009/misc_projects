{
 "cells": [
  {
   "cell_type": "code",
   "execution_count": 5,
   "id": "identified-scott",
   "metadata": {},
   "outputs": [
    {
     "data": {
      "text/plain": [
       "<torch._C.Generator at 0x106daff70>"
      ]
     },
     "execution_count": 5,
     "metadata": {},
     "output_type": "execute_result"
    }
   ],
   "source": [
    "import torch\n",
    "import torch.nn as nn\n",
    "import torch.utils.data as tud\n",
    "from collections import Counter\n",
    "import numpy as np\n",
    "import random\n",
    "from torch.utils.tensorboard import SummaryWriter\n",
    "from sklearn.decomposition import PCA\n",
    "import matplotlib.pyplot as plt\n",
    "\n",
    "import torch\n",
    "import torch.nn as nn\n",
    "import torch.nn.functional as F\n",
    "import torch.optim as optim\n",
    "import numpy as np\n",
    "import urllib.request\n",
    "from nltk.tokenize import RegexpTokenizer\n",
    "from nltk.corpus import stopwords\n",
    "from nltk import word_tokenize\n",
    "import sklearn\n",
    "from sklearn.cluster import KMeans\n",
    "from sklearn.metrics.pairwise import euclidean_distances\n",
    "\n",
    "torch.manual_seed(1)"
   ]
  },
  {
   "cell_type": "code",
   "execution_count": 3,
   "id": "increasing-chorus",
   "metadata": {},
   "outputs": [],
   "source": [
    "def read_data(file_path):\n",
    "    tokenizer = RegexpTokenizer(r'\\w+')\n",
    "    data = urllib.request.urlopen(file_path)\n",
    "    data = data.read().decode('utf8')\n",
    "    tokenized_data = word_tokenize(data)\n",
    "    stop_words = set(stopwords.words('english'))\n",
    "    stop_words.update(['.',',',':',';','(',')','#','--','...','\"'])\n",
    "    cleaned_words = [ i for i in tokenized_data if i not in stop_words ]\n",
    "    return(cleaned_words)"
   ]
  },
  {
   "cell_type": "code",
   "execution_count": 28,
   "id": "powerful-proportion",
   "metadata": {},
   "outputs": [],
   "source": [
    "def get_words(words):\n",
    "\n",
    "    words_set = list(set(words))\n",
    "\n",
    "    words_freq_num = Counter(words).most_common(len(words_set))\n",
    "    words_freq_p = [freq for word, freq in words_freq_num]\n",
    "    words_freq_p = np.array(words_freq_p)\n",
    "    words_freq_p = words_freq_p ** (3. / 4.)\n",
    "    words_freq_p = words_freq_p / np.sum(words_freq_p)\n",
    "\n",
    "    words2id = {w: i for i, w in enumerate(words_set)}\n",
    "    id2words = {i: w for i, w in enumerate(words_set)}\n",
    "\n",
    "    return words2id, id2words, words_set, words, np.array(words_freq_num), np.array(words_freq_p)"
   ]
  },
  {
   "cell_type": "code",
   "execution_count": 6,
   "id": "short-brooklyn",
   "metadata": {},
   "outputs": [],
   "source": [
    "test_sentence = read_data('https://www.gutenberg.org/files/57884/57884-0.txt')"
   ]
  },
  {
   "cell_type": "code",
   "execution_count": 35,
   "id": "coupled-mayor",
   "metadata": {},
   "outputs": [],
   "source": [
    "def get_skip_pairs(words, context_size):\n",
    "    skip_grams = []\n",
    "    for i, w in enumerate(words):\n",
    "        context_words = words[max(i - context_size, 0):max(i, 0)] + words[i + 1:i + context_size + 1]\n",
    "        skip_grams.append((w, context_words))\n",
    "    return skip_grams"
   ]
  },
  {
   "cell_type": "code",
   "execution_count": 8,
   "id": "increasing-failure",
   "metadata": {},
   "outputs": [
    {
     "data": {
      "text/plain": [
       "['\\ufeffThe',\n",
       " 'Project',\n",
       " 'Gutenberg',\n",
       " 'EBook',\n",
       " 'The',\n",
       " 'Little',\n",
       " 'Moment',\n",
       " 'Happiness',\n",
       " 'Clarence',\n",
       " 'Budington']"
      ]
     },
     "execution_count": 8,
     "metadata": {},
     "output_type": "execute_result"
    }
   ],
   "source": [
    "test_sentence[:10]"
   ]
  },
  {
   "cell_type": "code",
   "execution_count": 9,
   "id": "tired-supply",
   "metadata": {},
   "outputs": [],
   "source": [
    "class word_embedding_dataset(tud.Dataset):\n",
    "    def __init__(self, skip_grams):\n",
    "        super(word_embedding_dataset, self).__init__()\n",
    "        self.skip_grams = skip_grams\n",
    "\n",
    "    def __len__(self):\n",
    "        return len(self.skip_grams)\n",
    "\n",
    "    def __getitem__(self, idx):\n",
    "        return self.skip_grams[idx]"
   ]
  },
  {
   "cell_type": "code",
   "execution_count": 11,
   "id": "australian-vehicle",
   "metadata": {},
   "outputs": [],
   "source": [
    "def find_nearest_k(word, k):\n",
    "    wid = words2id[word]\n",
    "    w_vec = wordvec[wid]\n",
    "\n",
    "    similarity = wordvec @ w_vec.T\n",
    "    sort = np.sort(similarity)[::-1]\n",
    "    sort_arg = np.argsort(similarity)[::-1]\n",
    "\n",
    "    result = []\n",
    "    for i in sort_arg:\n",
    "        result.append(id2words[i])\n",
    "\n",
    "    return result[:k]"
   ]
  },
  {
   "cell_type": "code",
   "execution_count": 50,
   "id": "standard-refund",
   "metadata": {},
   "outputs": [],
   "source": [
    "class embedding_model(nn.Module):\n",
    "    def __init__(self, voc_size, emb_size):\n",
    "        super(embedding_model, self).__init__()\n",
    "        self.voc_size = voc_size\n",
    "        self.emb_size = emb_size\n",
    "\n",
    "        init_range = 0.5 / self.emb_size\n",
    "        self.in_embed = nn.Embedding(num_embeddings=self.voc_size, embedding_dim=emb_size)\n",
    "        self.in_embed.weight.data.uniform_(-init_range, init_range)\n",
    "        self.out_embed = nn.Embedding(num_embeddings=self.voc_size, embedding_dim=emb_size)\n",
    "        self.out_embed.weight.data.uniform_(-init_range, init_range)\n",
    "        \n",
    "    \n",
    "    def forward(self, input_labels, pos_labels, neg_labels):\n",
    "        \n",
    "        # shape (1,embedding_size)\n",
    "        input_embedding = self.in_embed(input_labels)\n",
    "        # shape (context_size,embedding_size)\n",
    "        \n",
    "        pos_embedding = self.out_embed(pos_labels)\n",
    "        neg_embedding = self.out_embed(neg_labels)\n",
    "\n",
    "        input_embedding = input_embedding.unsqueeze(2)\n",
    "        pos_embedding = pos_embedding.unsqueeze(0)\n",
    "        neg_embedding = neg_embedding.unsqueeze(0)\n",
    "\n",
    "        pos_dot = torch.bmm(pos_embedding, input_embedding)\n",
    "        neg_dot = torch.bmm(neg_embedding, -input_embedding)\n",
    "\n",
    "        # 正样本\n",
    "        log_pos = torch.sigmoid(pos_dot).sum(1)\n",
    "        # 负样本\n",
    "        log_neg = torch.sigmoid(neg_dot).sum(1)\n",
    "\n",
    "        loss = (-log_pos - log_neg).squeeze()\n",
    "        return loss\n",
    "        \n",
    "        \n",
    "        "
   ]
  },
  {
   "cell_type": "code",
   "execution_count": 51,
   "id": "processed-forestry",
   "metadata": {},
   "outputs": [],
   "source": [
    "def words2id_func(words):\n",
    "    return np.array([words2id[w] for w in words])"
   ]
  },
  {
   "cell_type": "markdown",
   "id": "stock-ballet",
   "metadata": {},
   "source": [
    "# Main function "
   ]
  },
  {
   "cell_type": "code",
   "execution_count": 52,
   "id": "supposed-declaration",
   "metadata": {},
   "outputs": [],
   "source": [
    "k = 5\n",
    "embedding_size = 8\n",
    "context_size = 2\n",
    "lr = 1e-2\n",
    "num_epoch = 800"
   ]
  },
  {
   "cell_type": "code",
   "execution_count": 53,
   "id": "precious-composer",
   "metadata": {},
   "outputs": [],
   "source": [
    "model = embedding_model(voc_size=voc_size, emb_size=embedding_size)"
   ]
  },
  {
   "cell_type": "code",
   "execution_count": 29,
   "id": "fallen-adaptation",
   "metadata": {},
   "outputs": [],
   "source": [
    "words2id, id2words, words_set, words, words_freq_num, words_freq_p = get_words(test_sentence)"
   ]
  },
  {
   "cell_type": "code",
   "execution_count": 30,
   "id": "positive-recovery",
   "metadata": {},
   "outputs": [],
   "source": [
    "voc_size = len(words_set)"
   ]
  },
  {
   "cell_type": "code",
   "execution_count": 33,
   "id": "matched-energy",
   "metadata": {},
   "outputs": [
    {
     "data": {
      "text/plain": [
       "array([1.13954053e-02, 1.13954053e-02, 9.54439976e-03, ...,\n",
       "       2.97322554e-05, 2.97322554e-05, 2.97322554e-05])"
      ]
     },
     "execution_count": 33,
     "metadata": {},
     "output_type": "execute_result"
    }
   ],
   "source": [
    "words_freq_p"
   ]
  },
  {
   "cell_type": "code",
   "execution_count": 36,
   "id": "religious-retro",
   "metadata": {},
   "outputs": [],
   "source": [
    "skip_grams = get_skip_pairs(test_sentence, context_size=2)"
   ]
  },
  {
   "cell_type": "code",
   "execution_count": 39,
   "id": "anticipated-aaron",
   "metadata": {},
   "outputs": [],
   "source": [
    "dataset = word_embedding_dataset(skip_grams=skip_grams)"
   ]
  },
  {
   "cell_type": "code",
   "execution_count": 41,
   "id": "practical-reggae",
   "metadata": {},
   "outputs": [
    {
     "data": {
      "text/plain": [
       "array([1.13954053e-02, 1.13954053e-02, 9.54439976e-03, ...,\n",
       "       2.97322554e-05, 2.97322554e-05, 2.97322554e-05])"
      ]
     },
     "execution_count": 41,
     "metadata": {},
     "output_type": "execute_result"
    }
   ],
   "source": [
    "words_freq_p"
   ]
  },
  {
   "cell_type": "code",
   "execution_count": 45,
   "id": "impressive-genius",
   "metadata": {},
   "outputs": [
    {
     "data": {
      "text/plain": [
       "array([[2, 5, 3, 5, 1, 4]])"
      ]
     },
     "execution_count": 45,
     "metadata": {},
     "output_type": "execute_result"
    }
   ],
   "source": [
    "np.random.multinomial(20, [1/6.]*6, size=1)"
   ]
  },
  {
   "cell_type": "code",
   "execution_count": 46,
   "id": "twelve-integral",
   "metadata": {},
   "outputs": [],
   "source": [
    "indexs = torch.multinomial(torch.Tensor(words_freq_p), k, replacement=True)"
   ]
  },
  {
   "cell_type": "code",
   "execution_count": 54,
   "id": "isolated-christian",
   "metadata": {},
   "outputs": [],
   "source": [
    "optimizer = torch.optim.SGD(model.parameters(), lr=lr)"
   ]
  },
  {
   "cell_type": "code",
   "execution_count": 57,
   "id": "hundred-satellite",
   "metadata": {},
   "outputs": [],
   "source": [
    "word_freq_indexs = {}\n",
    "for i, (word, freq) in enumerate(words_freq_num):\n",
    "    word_freq_indexs[word] = i"
   ]
  },
  {
   "cell_type": "code",
   "execution_count": 109,
   "id": "greatest-syria",
   "metadata": {},
   "outputs": [],
   "source": [
    "index = 0"
   ]
  },
  {
   "cell_type": "code",
   "execution_count": 113,
   "id": "configured-knife",
   "metadata": {},
   "outputs": [],
   "source": [
    "for i, skip_gram in enumerate(dataset):\n",
    "    center_word = words2id[skip_gram[0]]\n",
    "    context_words_id = [words2id[word] for word in skip_gram[1]]\n",
    "    context_words = skip_gram[1]\n",
    "    p = words_freq_p.copy()\n",
    "    \n",
    "    for context in context_words:\n",
    "        p[word_freq_indexs[context]] = 0\n",
    "    \n",
    "    #sampling from negative samples after removing the context words\n",
    "    neg_words_sample = torch.multinomial(torch.Tensor(p), k, replacement=True)\n",
    "    \n",
    "    \n",
    "    neg_words = words2id_func(words_freq_num[np.asarray(neg_words_sample.data.tolist())][:, 0])\n",
    "    #print(context_words)\n",
    "    context_words = words2id_func(context_words)\n",
    "    #print(neg_words)\n",
    "    #print(context_words)\n",
    "    \n",
    "    \n",
    "    optimizer.zero_grad()\n",
    "    \n",
    "    \n",
    "    loss = model(torch.LongTensor([center_word]), torch.LongTensor(context_words), torch.LongTensor(neg_words))\n",
    "    break\n",
    "    if index % 10000 == 0:\n",
    "        print(loss.item())\n",
    "    loss.backward()\n",
    "    optimizer.step()\n",
    "    index += 1"
   ]
  },
  {
   "cell_type": "code",
   "execution_count": 114,
   "id": "intelligent-headset",
   "metadata": {},
   "outputs": [
    {
     "data": {
      "text/plain": [
       "tensor(-3.4995, grad_fn=<SqueezeBackward0>)"
      ]
     },
     "execution_count": 114,
     "metadata": {},
     "output_type": "execute_result"
    }
   ],
   "source": [
    "loss"
   ]
  },
  {
   "cell_type": "code",
   "execution_count": 115,
   "id": "scenic-liquid",
   "metadata": {},
   "outputs": [
    {
     "data": {
      "text/plain": [
       "tensor([8092])"
      ]
     },
     "execution_count": 115,
     "metadata": {},
     "output_type": "execute_result"
    }
   ],
   "source": [
    "torch.LongTensor([center_word])"
   ]
  },
  {
   "cell_type": "code",
   "execution_count": 116,
   "id": "brutal-privacy",
   "metadata": {},
   "outputs": [
    {
     "data": {
      "text/plain": [
       "tensor([9460, 3448])"
      ]
     },
     "execution_count": 116,
     "metadata": {},
     "output_type": "execute_result"
    }
   ],
   "source": [
    "torch.LongTensor(context_words)"
   ]
  },
  {
   "cell_type": "code",
   "execution_count": 117,
   "id": "underlying-ocean",
   "metadata": {},
   "outputs": [
    {
     "data": {
      "text/plain": [
       "tensor([11171,  8656,  4494,  6622,  2301])"
      ]
     },
     "execution_count": 117,
     "metadata": {},
     "output_type": "execute_result"
    }
   ],
   "source": [
    "torch.LongTensor(neg_words)"
   ]
  },
  {
   "cell_type": "code",
   "execution_count": null,
   "id": "acceptable-florence",
   "metadata": {},
   "outputs": [],
   "source": []
  }
 ],
 "metadata": {
  "kernelspec": {
   "display_name": "Python 3",
   "language": "python",
   "name": "python3"
  },
  "language_info": {
   "codemirror_mode": {
    "name": "ipython",
    "version": 3
   },
   "file_extension": ".py",
   "mimetype": "text/x-python",
   "name": "python",
   "nbconvert_exporter": "python",
   "pygments_lexer": "ipython3",
   "version": "3.8.8"
  }
 },
 "nbformat": 4,
 "nbformat_minor": 5
}
